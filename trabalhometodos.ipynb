{
  "nbformat": 4,
  "nbformat_minor": 0,
  "metadata": {
    "colab": {
      "provenance": []
    },
    "kernelspec": {
      "name": "python3",
      "display_name": "Python 3"
    },
    "language_info": {
      "name": "python"
    }
  },
  "cells": [
    {
      "cell_type": "markdown",
      "source": [
        "# Método da Máxima Verossimilhança\n",
        "\n",
        "\n",
        "Ideia do campo matemático, usada inicialmente por matemáticos importantes como Gauss e Laplace e posteriormente, no campo da estatística, defendido pelo estatístico inglês Ronald Fisher.\n",
        "\n",
        "A função densidade de um vetor aleatório $(x_1,...,x_n)$ cuja distribuição depende de um parâmetro $\\theta$ é a função densidade de probabilidade conjunta dada por:\n",
        "\n",
        "$$fx_1,...,x_n(x_1,...,x_n,\\theta)$$\n",
        "\n",
        "Se forem amostras independentes temos $fx_1,...,x_n(x_1,...,x_n,\\theta) = fx_1(x_1,\\theta)fx_2(x_2,\\theta)...fx_n(x_n,\\theta)$\n",
        "\n",
        "E através de que a mesma amostra provém da mesma distribuição de $X$, podemos escrever da seguinte forma:\n",
        "\n",
        "$$fx_1,...,x_n(x_1,...,x_n,\\theta) = \\prod_{i=1}^{n}{fx_i(x_i,\\theta)}$$\n",
        "\n",
        "Quando observamos $x_1,...,x_n$ a função $fx_1,...,x_n(x_1,...,x_n,\\theta)$ passa a ser uma função do parâmetro $\\theta$, chamada de ***função verossimilhança*** e denotada por:\n",
        "\n",
        "$$L(\\theta) = L(\\theta;x) = \\prod_{i=1}^{n}{fx(x_i;\\theta)}$$\n",
        "\n",
        "A letra $L$ está associada ao termo em inglês ***likelihood*** traduzida como ***verossimilhança***\n",
        "\n",
        "O estimador de máxima verossimilhança de $\\theta$ é tal que $\\hat{\\theta}$ pertence ao espaço paramétrico e maximiza a função de verossimilhança $L(\\theta;x)$.\n",
        "\n",
        "Ideia : Devemos encontrar $\\theta$ de tal forma que os dados observados $x_1,...,x_n$ tenham maior (máximo) probabilidade de serem obtidos."
      ],
      "metadata": {
        "id": "kEvWl5TXhhkv"
      }
    },
    {
      "cell_type": "markdown",
      "source": [
        "### EXEMPLO (sem a necessidade de um método numérico)\n",
        "\n",
        "Aplicando Máxima Verossimilhança para estimar o parâmetro $\\theta$ da distribuição exponencial\n",
        "\n",
        "$$fx(x;\\theta)= \\theta \\exp^{-\\theta{x}}, x>0, \\theta >0$$\n",
        "\n",
        "Aplicando o produtório\n",
        "\n",
        "$L(\\theta) = \\prod_{i=1}^{n}{fx(x_i;\\theta)} = \\prod_{i=1}^{n}\\theta \\exp^{-\\theta{x_i}} = \\theta^{n}\\exp^{-\\theta\\sum_{i=1}^{n}x_i}$\n",
        "\n",
        "**OBS**: Maximizar $L(\\theta)$ é equivalente a maximizar $log{L(\\theta)}$, pois a função logarítima é monótona crescente. Assim, obtemos a função de ***Log Verossimilhança***, o procedimento do $\\log$ é mais conveniente e irá alcançar o mesmo máximo.\n",
        "\n",
        "$$l(\\theta) = \\log{L(\\theta)}$$\n",
        "\n",
        "Assim\n",
        "\n",
        "$l(\\theta) = \\log[\\theta^{n}\\exp^{-\\theta\\sum_{i=1}^{n}x_i}] = n\\log\\theta - \\theta\\sum_{i=1}^{n}x_i$\n",
        "\n",
        "Agora a primeira derivada para encontrar o ponto crítico\n",
        "\n",
        "$$\\frac{\\partial l}{\\partial\\theta} = \\frac{n}{\\theta} - \\sum_{i=1}^{n}x_i$$\n",
        "\n",
        "$$\\frac{\\partial l}{\\partial\\theta} = 0 \\iff 0 = \\frac{n}{\\hat\\theta} - \\sum_{i=1}^{n}x_i \\iff \\sum_{i=1}^{n}x_i = \\frac{n}{\\hat\\theta} \\iff \\hat\\theta = \\frac{1}{\\bar{x}}$$\n",
        "\n",
        "Vendo se será ponto de Máximo ou Mínimo, se for menor que 0 será ponto de Máximo, o contrário será ponto de Mínimo.\n",
        "\n",
        "$$\\frac{\\partial^{2}l}{\\partial\\theta^{2}} = \\frac{-n}{\\hat\\theta^{2}} < 0$$ Logo, Máximo\n",
        "\n",
        "$$\\hat\\theta = \\frac{1}{\\bar{x}}$$ é o estimador de Máxima Verossimilhança de $\\theta$"
      ],
      "metadata": {
        "id": "GNmIfm3IvvtA"
      }
    },
    {
      "cell_type": "markdown",
      "source": [
        "### EXEMPLO (necessidade de um método numérico)\n",
        "\n",
        "Aplicando Máxima Verossimilhança para estimar o parâmetro $\\theta$ da distribuição Lindley unitária (UL)\n",
        "\n",
        "\n",
        "$$fx(x;\\theta) = \\frac{\\theta^{2}}{1+\\theta}(1+x)^{-3}\\exp\\bigg(-\\frac{\\theta x}{1-x}\\bigg),0<x<1,\\theta>0$$\n",
        "\n",
        "Aplicando o EMV na densidade\n",
        "\n",
        "verossimilhança:\n",
        "\n",
        "$$L(\\theta) = \\prod_{i=1}^{n}fx(xi;\\theta)=\\prod_{i=1}^{n}\\frac{\\theta^{2}}{1+\\theta}(1+xi)^{-3}\\exp\\bigg(-\\frac{\\theta xi}{1-xi}\\bigg) =\\frac{\\theta^{2n}}{(1+\\theta)^{n}}\\prod_{i=1}^{n}(1+xi)^{-3}\\exp\\bigg(\\sum_{i=1}^{n}-\\frac{\\theta xi}{1-xi}\\bigg)$$\n",
        "\n",
        "log-verossimilhança:\n",
        "\n",
        "$$l(\\theta)=2n\\log\\theta - n\\log(1+\\theta) + \\sum_{i=1}^{n}\\log(1+xi)^{-3} - \\sum_{i=1}^{n}\\frac{\\theta xi}{1-xi}$$\n",
        "\n",
        "primeira derivada:\n",
        "\n",
        "$$\\frac{\\partial l}{\\partial\\theta} = \\frac{2n}{\\theta} - \\frac{n}{1+\\theta} - \\sum_{i=1}^{n}\\frac{xi}{1-xi}$$\n",
        "\n",
        "segunda derivada:\n",
        "\n",
        "$$\\frac{\\partial^{2}l}{\\partial\\theta^{2}} = - \\frac{2n}{\\theta^{2}} + \\frac{n}{(1+\\theta)^{2}}$$\n"
      ],
      "metadata": {
        "id": "YScEkUwKGppm"
      }
    },
    {
      "cell_type": "code",
      "source": [
        "import pandas as pd\n",
        "import numpy as np\n",
        "import matplotlib.pyplot as plt\n",
        "\n",
        "arquivo = \"dadosanalfa2.csv\"\n",
        "\n",
        "df = pd.read_csv(arquivo, delimiter=';')"
      ],
      "metadata": {
        "id": "BvYH-_2zWj9l"
      },
      "execution_count": null,
      "outputs": []
    },
    {
      "cell_type": "code",
      "source": [
        "top10_df = df.sort_values(by='Taxa de analfabetismo - 25 a 29 anos de idade 2010', ascending=False).head(10)\n",
        "top10_df.style.hide_index()\n"
      ],
      "metadata": {
        "id": "SJoxlFgwHFXx",
        "colab": {
          "base_uri": "https://localhost:8080/",
          "height": 398
        },
        "outputId": "cad42cb4-4b9b-4cd7-b426-f50d906bcb94"
      },
      "execution_count": null,
      "outputs": [
        {
          "output_type": "stream",
          "name": "stderr",
          "text": [
            "<ipython-input-2-6d321f5b7670>:2: FutureWarning: this method is deprecated in favour of `Styler.hide(axis=\"index\")`\n",
            "  top10_df.style.hide_index()\n"
          ]
        },
        {
          "output_type": "execute_result",
          "data": {
            "text/plain": [
              "<pandas.io.formats.style.Styler at 0x798b5a6f5030>"
            ],
            "text/html": [
              "<style type=\"text/css\">\n",
              "</style>\n",
              "<table id=\"T_f1503\" class=\"dataframe\">\n",
              "  <thead>\n",
              "    <tr>\n",
              "      <th id=\"T_f1503_level0_col0\" class=\"col_heading level0 col0\" >Territorialidades</th>\n",
              "      <th id=\"T_f1503_level0_col1\" class=\"col_heading level0 col1\" >Taxa de analfabetismo - 25 a 29 anos de idade 2010</th>\n",
              "    </tr>\n",
              "  </thead>\n",
              "  <tbody>\n",
              "    <tr>\n",
              "      <td id=\"T_f1503_row0_col0\" class=\"data row0 col0\" >Charrua (RS)</td>\n",
              "      <td id=\"T_f1503_row0_col1\" class=\"data row0 col1\" >0.169600</td>\n",
              "    </tr>\n",
              "    <tr>\n",
              "      <td id=\"T_f1503_row1_col0\" class=\"data row1 col0\" >São Valério do Sul (RS)</td>\n",
              "      <td id=\"T_f1503_row1_col1\" class=\"data row1 col1\" >0.100600</td>\n",
              "    </tr>\n",
              "    <tr>\n",
              "      <td id=\"T_f1503_row2_col0\" class=\"data row2 col0\" >Redentora (RS)</td>\n",
              "      <td id=\"T_f1503_row2_col1\" class=\"data row2 col1\" >0.100400</td>\n",
              "    </tr>\n",
              "    <tr>\n",
              "      <td id=\"T_f1503_row3_col0\" class=\"data row3 col0\" >Benjamin Constant do Sul (RS)</td>\n",
              "      <td id=\"T_f1503_row3_col1\" class=\"data row3 col1\" >0.087200</td>\n",
              "    </tr>\n",
              "    <tr>\n",
              "      <td id=\"T_f1503_row4_col0\" class=\"data row4 col0\" >Lajeado do Bugre (RS)</td>\n",
              "      <td id=\"T_f1503_row4_col1\" class=\"data row4 col1\" >0.061100</td>\n",
              "    </tr>\n",
              "    <tr>\n",
              "      <td id=\"T_f1503_row5_col0\" class=\"data row5 col0\" >Jaquirana (RS)</td>\n",
              "      <td id=\"T_f1503_row5_col1\" class=\"data row5 col1\" >0.061000</td>\n",
              "    </tr>\n",
              "    <tr>\n",
              "      <td id=\"T_f1503_row6_col0\" class=\"data row6 col0\" >Pirapó (RS)</td>\n",
              "      <td id=\"T_f1503_row6_col1\" class=\"data row6 col1\" >0.059700</td>\n",
              "    </tr>\n",
              "    <tr>\n",
              "      <td id=\"T_f1503_row7_col0\" class=\"data row7 col0\" >Inhacorá (RS)</td>\n",
              "      <td id=\"T_f1503_row7_col1\" class=\"data row7 col1\" >0.058400</td>\n",
              "    </tr>\n",
              "    <tr>\n",
              "      <td id=\"T_f1503_row8_col0\" class=\"data row8 col0\" >Fontoura Xavier (RS)</td>\n",
              "      <td id=\"T_f1503_row8_col1\" class=\"data row8 col1\" >0.057700</td>\n",
              "    </tr>\n",
              "    <tr>\n",
              "      <td id=\"T_f1503_row9_col0\" class=\"data row9 col0\" >Lagoão (RS)</td>\n",
              "      <td id=\"T_f1503_row9_col1\" class=\"data row9 col1\" >0.054100</td>\n",
              "    </tr>\n",
              "  </tbody>\n",
              "</table>\n"
            ]
          },
          "metadata": {},
          "execution_count": 2
        }
      ]
    },
    {
      "cell_type": "code",
      "source": [
        "def newton(f, df, x_antigo, tolerancia = 1e-4):\n",
        "  erro       = 1\n",
        "\n",
        "  while erro > tolerancia:\n",
        "    x_novo   = x_antigo - f(x_antigo)/df(x_antigo)\n",
        "    erro     = abs(x_antigo - x_novo)/abs(x_antigo)\n",
        "    x_antigo = x_novo\n",
        "    print(f'Valor estimado de raiz: {x_novo} - erro: {erro}')\n",
        "\n",
        "  print(f'A raiz estimada é: {x_novo}')"
      ],
      "metadata": {
        "id": "EvX3U1bxX0EO"
      },
      "execution_count": null,
      "outputs": []
    },
    {
      "cell_type": "code",
      "source": [
        "lindley = lambda x: (theta**2/(1+theta))*((1+x)**-3)*np.exp((-theta*x)/(1-x))\n",
        "f = lambda theta: ((2 * n) / theta) - (n / (1 + theta)) - np.sum(x/ (1 - x))\n",
        "derivf = lambda theta: -(2 * n) / theta**2 + n / ((1 + theta)**2)"
      ],
      "metadata": {
        "id": "vvWnbUZ8OGyc"
      },
      "execution_count": null,
      "outputs": []
    },
    {
      "cell_type": "code",
      "source": [
        "n = df.shape[0]\n",
        "x = df.iloc[:, 1]"
      ],
      "metadata": {
        "id": "ecbNnryz-NqI"
      },
      "execution_count": null,
      "outputs": []
    },
    {
      "cell_type": "code",
      "source": [
        "theta = np.linspace(0, 200, 1000)\n",
        "plt.plot(theta, f(theta), \"-\")\n",
        "plt.grid()\n",
        "plt.ylim(-20, 10)\n",
        "plt.show()"
      ],
      "metadata": {
        "id": "CkPy3mpm_po3",
        "colab": {
          "base_uri": "https://localhost:8080/",
          "height": 470
        },
        "outputId": "8dd3b4c0-5ff7-4309-d062-6e88c56f4370"
      },
      "execution_count": null,
      "outputs": [
        {
          "output_type": "stream",
          "name": "stderr",
          "text": [
            "<ipython-input-4-1eb7559df0ab>:2: RuntimeWarning: divide by zero encountered in divide\n",
            "  f = lambda theta: ((2 * n) / theta) - (n / (1 + theta)) - np.sum(x/ (1 - x))\n"
          ]
        },
        {
          "output_type": "display_data",
          "data": {
            "text/plain": [
              "<Figure size 640x480 with 1 Axes>"
            ],
            "image/png": "[encoded data removed]"
          },
          "metadata": {}
        }
      ]
    },
    {
      "cell_type": "code",
      "source": [
        "theta0 = 50\n",
        "newton(f, derivf, theta0, 1e-4)"
      ],
      "metadata": {
        "id": "ntrSxqqc8bAp",
        "colab": {
          "base_uri": "https://localhost:8080/"
        },
        "outputId": "aecc657a-f26b-43ba-c5fc-da48681958a7"
      },
      "execution_count": null,
      "outputs": [
        {
          "output_type": "stream",
          "name": "stdout",
          "text": [
            "Valor estimado de raiz: 52.943020318337574 - erro: 0.058860406366751473\n",
            "Valor estimado de raiz: 53.129967723328974 - erro: 0.0035311057787658644\n",
            "Valor estimado de raiz: 53.13064163820499 - erro: 1.2684270382525057e-05\n",
            "A raiz estimada é: 53.13064163820499\n"
          ]
        }
      ]
    },
    {
      "cell_type": "code",
      "source": [
        "def bissec(f, a, b, eps = 1e-4):\n",
        "    err = 100\n",
        "    x_ant = a\n",
        "    iteracao = 1\n",
        "    while err>eps:\n",
        "        x = (a+b)/2.0\n",
        "        err = abs(x - x_ant)/abs(x)\n",
        "        if f(a)*f(x)<0:\n",
        "            b = x\n",
        "        else:\n",
        "            a = x\n",
        "        x_ant = x\n",
        "        print (f'Iteração: {iteracao} | Raiz estimada: {x} | Erro: {err}')\n",
        "        iteracao +=1\n",
        "    return (x)"
      ],
      "metadata": {
        "id": "5xkOIi4HqM0S"
      },
      "execution_count": null,
      "outputs": []
    },
    {
      "cell_type": "code",
      "source": [
        "a = 50\n",
        "b = 70\n",
        "bissec(f,a,b)"
      ],
      "metadata": {
        "colab": {
          "base_uri": "https://localhost:8080/"
        },
        "id": "sLLhPma8qgWZ",
        "outputId": "5eeb498f-2408-4672-d3ec-6363284e5ffb"
      },
      "execution_count": null,
      "outputs": [
        {
          "output_type": "stream",
          "name": "stdout",
          "text": [
            "Iteração: 1 | Raiz estimada: 60.0 | Erro: 0.16666666666666666\n",
            "Iteração: 2 | Raiz estimada: 55.0 | Erro: 0.09090909090909091\n",
            "Iteração: 3 | Raiz estimada: 52.5 | Erro: 0.047619047619047616\n",
            "Iteração: 4 | Raiz estimada: 53.75 | Erro: 0.023255813953488372\n",
            "Iteração: 5 | Raiz estimada: 53.125 | Erro: 0.011764705882352941\n",
            "Iteração: 6 | Raiz estimada: 53.4375 | Erro: 0.005847953216374269\n",
            "Iteração: 7 | Raiz estimada: 53.28125 | Erro: 0.002932551319648094\n",
            "Iteração: 8 | Raiz estimada: 53.203125 | Erro: 0.0014684287812041115\n",
            "Iteração: 9 | Raiz estimada: 53.1640625 | Erro: 0.0007347538574577516\n",
            "Iteração: 10 | Raiz estimada: 53.14453125 | Erro: 0.0003675119441381845\n",
            "Iteração: 11 | Raiz estimada: 53.134765625 | Erro: 0.0001837897445322551\n",
            "Iteração: 12 | Raiz estimada: 53.1298828125 | Erro: 9.190331770976932e-05\n"
          ]
        },
        {
          "output_type": "execute_result",
          "data": {
            "text/plain": [
              "53.1298828125"
            ]
          },
          "metadata": {},
          "execution_count": 9
        }
      ]
    },
    {
      "cell_type": "code",
      "source": [
        "theta = 53.1298828125\n",
        "\n",
        "x2 = np.linspace(0, 0.2, 1000)\n",
        "\n",
        "plt.hist(x, density=True, edgecolor='black', label='Dados')\n",
        "\n",
        "plt.plot(x2, lindley(x2), '-', color='red', linewidth=2, label='Função Lindley')\n",
        "\n",
        "plt.xlabel('Valores de X')\n",
        "plt.ylabel('Frequência')\n",
        "plt.tight_layout()\n",
        "plt.gca().spines['right'].set_visible(False)\n",
        "plt.gca().spines['top'].set_visible(False)\n",
        "plt.ylim(0, 50)\n",
        "plt.xlim(0,0.2)\n",
        "plt.title('Histograma dos dados e Função Lindley')\n",
        "plt.legend()\n",
        "plt.show()"
      ],
      "metadata": {
        "id": "OB0z8PoDlGyS",
        "colab": {
          "base_uri": "https://localhost:8080/",
          "height": 509
        },
        "outputId": "2052bd48-b6f2-4bc5-fde3-3b39eb4336e2"
      },
      "execution_count": null,
      "outputs": [
        {
          "output_type": "display_data",
          "data": {
            "text/plain": [
              "<Figure size 640x480 with 1 Axes>"
            ],
            "image/png": "[encoded data removed]"
          },
          "metadata": {}
        }
      ]
    }
  ]
}